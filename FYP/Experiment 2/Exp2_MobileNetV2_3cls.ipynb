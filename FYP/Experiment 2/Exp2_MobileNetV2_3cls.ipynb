{
 "cells": [
  {
   "cell_type": "markdown",
   "metadata": {},
   "source": [
    "Written by Yashil Pudaruth."
   ]
  },
  {
   "cell_type": "markdown",
   "metadata": {},
   "source": [
    "*To avoid Out Of Memory (OOM) error, restart kernel and clear output after each run.*"
   ]
  },
  {
   "cell_type": "code",
   "execution_count": null,
   "metadata": {},
   "outputs": [],
   "source": [
    "#import libraries\n",
    "\n",
    "import matplotlib.pyplot as plt\n",
    "import numpy as np\n",
    "import tensorflow as tf\n",
    "import keras\n",
    "import os\n",
    "from keras import layers\n",
    "from keras.applications.mobilenet_v2 import MobileNetV2\n",
    "from keras.applications.mobilenet_v2 import preprocess_input\n",
    "from keras.preprocessing.image import ImageDataGenerator"
   ]
  },
  {
   "cell_type": "code",
   "execution_count": null,
   "metadata": {},
   "outputs": [],
   "source": [
    "#define hyperparameters \n",
    "\n",
    "batch_size = 32\n",
    "img_width = 224\n",
    "img_height = 224"
   ]
  },
  {
   "cell_type": "code",
   "execution_count": null,
   "metadata": {},
   "outputs": [],
   "source": [
    "#set paths to training and validation folders separately\n",
    "\n",
    "train_path = os.path.join('Dataset2', 'Train')\n",
    "\n",
    "val_path = os.path.join('Dataset2', 'Validation')"
   ]
  },
  {
   "cell_type": "code",
   "execution_count": null,
   "metadata": {},
   "outputs": [],
   "source": [
    "#create ImageDataGenerator object to read, apply preprocessing to, and augment training dataset\n",
    "\n",
    "train_datagen = ImageDataGenerator(preprocessing_function=preprocess_input, \n",
    "                                   rotation_range=30, \n",
    "                                   width_shift_range=0.2, \n",
    "                                   height_shift_range=0.2, \n",
    "                                   shear_range=0.2, \n",
    "                                   zoom_range=0.2, \n",
    "                                   horizontal_flip=True)\n",
    "\n",
    "#create ImageDataGenerator object to read and apply preprocessing to validation dataset\n",
    "\n",
    "val_datagen = ImageDataGenerator(preprocessing_function=preprocess_input)"
   ]
  },
  {
   "cell_type": "code",
   "execution_count": null,
   "metadata": {},
   "outputs": [],
   "source": [
    "#training data specified as training dataset and input pipeline setup\n",
    "\n",
    "train_ds = train_datagen.flow_from_directory(directory=train_path, \n",
    "                                             target_size=(img_width, img_height), \n",
    "                                             color_mode=\"rgb\", \n",
    "                                             batch_size=batch_size, \n",
    "                                             class_mode=\"categorical\", \n",
    "                                             shuffle=True, \n",
    "                                             seed=42)\n",
    "\n",
    "#validation data specified as validation dataset and input pipeline setup\n",
    "val_ds = val_datagen.flow_from_directory(directory=val_path, \n",
    "                                         target_size=(img_width, img_height), \n",
    "                                         color_mode=\"rgb\", \n",
    "                                         batch_size=batch_size, \n",
    "                                         class_mode=\"categorical\", \n",
    "                                         shuffle=False)"
   ]
  },
  {
   "cell_type": "code",
   "execution_count": null,
   "metadata": {},
   "outputs": [],
   "source": [
    "#instantiate base model with ImageNet weights, input shape but without the top\n",
    "base_model = MobileNetV2(weights='imagenet', \n",
    "                         input_shape=(224, 224, 3), \n",
    "                         include_top=False)\n",
    "\n",
    "#freeze layers in base model\n",
    "base_model.trainable = False"
   ]
  },
  {
   "cell_type": "code",
   "execution_count": null,
   "metadata": {},
   "outputs": [],
   "source": [
    "#create new input tensor\n",
    "inputs = keras.Input(shape=(224, 224, 3))\n",
    "\n",
    "#place base model on new input tensor and set batch normalisation layers to inference mode\n",
    "new_top = base_model(inputs, training=False)\n",
    "\n",
    "#add the global average pooling, 64 neuron fully connected, 20% dropout and 3 neuron Softmax output layers\n",
    "new_top = layers.GlobalAveragePooling2D()(new_top)\n",
    "new_top = layers.Dense(64, activation=\"relu\")(new_top)\n",
    "new_top = layers.Dropout(0.2)(new_top)\n",
    "\n",
    "outputs = layers.Dense(3, activation='softmax')(new_top)\n",
    "\n",
    "#build the new model\n",
    "model = keras.Model(inputs=inputs, outputs=outputs)"
   ]
  },
  {
   "cell_type": "code",
   "execution_count": null,
   "metadata": {},
   "outputs": [],
   "source": [
    "model.summary()"
   ]
  },
  {
   "cell_type": "code",
   "execution_count": null,
   "metadata": {},
   "outputs": [],
   "source": [
    "#set number of epochs and initial learning rate\n",
    "\n",
    "INIT_LR = 1e-3\n",
    "EPOCHS = 10\n",
    "\n",
    "#create custom Adam optimiser with initial learning and decay rates\n",
    "opt = tf.keras.optimizers.Adam(lr=INIT_LR, decay=INIT_LR / EPOCHS)\n",
    "\n",
    "\n",
    "#compile the model\n",
    "model.compile(optimizer=opt, loss='categorical_crossentropy', metrics=['accuracy'])"
   ]
  },
  {
   "cell_type": "code",
   "execution_count": null,
   "metadata": {},
   "outputs": [],
   "source": [
    "#set model checkpoint callback to save best model of all epochs based on min val loss\n",
    "callback = tf.keras.callbacks.ModelCheckpoint('model_mnv2_3cls.h5', \n",
    "                                              monitor='val_loss', \n",
    "                                              save_best_only=True, \n",
    "                                              mode='min')\n",
    "\n",
    "#train the model with weighted classes and record history\n",
    "mymodel = model.fit(train_ds, validation_data=val_ds, epochs=EPOCHS, \n",
    "                    class_weight = {0:1 , 1:2, 2:1}, callbacks=[callback])"
   ]
  },
  {
   "cell_type": "code",
   "execution_count": null,
   "metadata": {},
   "outputs": [],
   "source": [
    "#retrieve learning metrics \n",
    "acc = mymodel.history['accuracy']\n",
    "val_acc = mymodel.history['val_accuracy']\n",
    "\n",
    "loss = mymodel.history['loss']\n",
    "val_loss = mymodel.history['val_loss']\n",
    "\n",
    "#define epochs range for x-axis of learning graphs\n",
    "epochs_range = range(1, EPOCHS+1)"
   ]
  },
  {
   "cell_type": "code",
   "execution_count": null,
   "metadata": {},
   "outputs": [],
   "source": [
    "#plot learning graphs vs epochs \n",
    "\n",
    "plt.figure(figsize=(6, 6))\n",
    "\n",
    "plt.plot(epochs_range, mymodel.history[\"accuracy\"], label=\"train_acc\")\n",
    "plt.plot(epochs_range, mymodel.history[\"val_accuracy\"], label=\"val_acc\")\n",
    "\n",
    "plt.plot(epochs_range, mymodel.history[\"loss\"], label=\"train_loss\")\n",
    "plt.plot(epochs_range, mymodel.history[\"val_loss\"], label=\"val_loss\")\n",
    "\n",
    "plt.title(\"Training and Validation for MobileNetV2\")\n",
    "plt.ylim([0.0, 1.0])\n",
    "plt.xticks(epochs_range)\n",
    "plt.xlabel(\"Epoch\")\n",
    "plt.ylabel(\"Loss/Accuracy\")\n",
    "plt.legend(loc=\"right\")\n",
    "plt.grid()\n",
    "plt.show()"
   ]
  },
  {
   "cell_type": "code",
   "execution_count": null,
   "metadata": {},
   "outputs": [],
   "source": [
    "#classify function for performing classification on single images\n",
    "\n",
    "def classify(img_path):\n",
    "    class_names = ['Correctly_Masked','Incorrectly_Masked','Not_Masked']\n",
    "    img = keras.preprocessing.image.load_img(img_path, target_size=(img_width, img_height))\n",
    "    img_array = keras.preprocessing.image.img_to_array(img)\n",
    "    img_array = preprocess_input(img_array)\n",
    "    img_array = tf.expand_dims(img_array, 0)\n",
    "    predictions = model.predict(img_array)\n",
    "    print(predictions)\n",
    "    score = predictions[0]\n",
    "    print(score)\n",
    "    print(\"Class {} with {:.2f}% confidence\".format(class_names[np.argmax(score)], 100*np.max(score)))"
   ]
  },
  {
   "cell_type": "code",
   "execution_count": null,
   "metadata": {},
   "outputs": [],
   "source": [
    "#test classification on single images\n",
    "\n",
    "# img_path = \"C:\\\\Users\\Public\\Dataset\\Test\\\\85.png\"\n",
    "# classify(img_path)"
   ]
  },
  {
   "cell_type": "code",
   "execution_count": null,
   "metadata": {},
   "outputs": [],
   "source": [
    "#save last epoch model trained\n",
    "\n",
    "#model.save(\"model_mnv2_3cls_full.h5\")"
   ]
  },
  {
   "cell_type": "code",
   "execution_count": null,
   "metadata": {},
   "outputs": [],
   "source": [
    "from keras.models import load_model"
   ]
  },
  {
   "cell_type": "code",
   "execution_count": null,
   "metadata": {},
   "outputs": [],
   "source": [
    "#load best model of all epoch saved by model checkpoint callback\n",
    "\n",
    "model = load_model(\"model_mnv2_3cls.h5\")"
   ]
  },
  {
   "cell_type": "code",
   "execution_count": null,
   "metadata": {},
   "outputs": [],
   "source": [
    "#read and preprocess test datasets\n",
    "\n",
    "from sklearn.preprocessing import label_binarize\n",
    "\n",
    "class_names = ['Correctly_Masked','Incorrectly_Masked','Not_Masked']\n",
    "x_test =[]\n",
    "y_test=[]\n",
    "for c in class_names:\n",
    "    \n",
    "    path = os.path.join('Dataset2/Test',c)\n",
    "    \n",
    "    label = class_names.index(c)\n",
    "    \n",
    "    for file in os.listdir(path):\n",
    "        \n",
    "        img_path = os.path.join(path, file)\n",
    "        img = keras.preprocessing.image.load_img(img_path, target_size=(224, 224))\n",
    "        img_array = keras.preprocessing.image.img_to_array(img)\n",
    "        img = preprocess_input(img_array)\n",
    "    \n",
    "\n",
    "        x_test.append(img)\n",
    "        y_test.append(int(label))"
   ]
  },
  {
   "cell_type": "code",
   "execution_count": null,
   "metadata": {},
   "outputs": [],
   "source": [
    "#convert arrays to NumPy arrays\n",
    "\n",
    "x_test = np.array(x_test)\n",
    "y_test = np.array(y_test)"
   ]
  },
  {
   "cell_type": "code",
   "execution_count": null,
   "metadata": {},
   "outputs": [],
   "source": [
    "#one-hot encode labels\n",
    "\n",
    "y_test2 = label_binarize(y_test, classes=[0, 1, 2])\n",
    "\n",
    "#get number of classes\n",
    "n_classes = y_test2.shape[1]"
   ]
  },
  {
   "cell_type": "code",
   "execution_count": null,
   "metadata": {},
   "outputs": [],
   "source": [
    "#generate classification report and confusion matric based on predictions\n",
    "\n",
    "from sklearn.metrics import classification_report, confusion_matrix\n",
    "\n",
    "preds = model.predict(x_test, batch_size=batch_size, verbose=1)\n",
    "\n",
    "y_pred = np.argmax(preds, axis=1)\n",
    "y_true = np.argmax(y_test2, axis=1)\n",
    "\n",
    "print(classification_report(y_true, y_pred))\n",
    "\n",
    "cm = confusion_matrix(y_true, y_pred)\n",
    "print(cm)"
   ]
  },
  {
   "cell_type": "code",
   "execution_count": null,
   "metadata": {},
   "outputs": [],
   "source": [
    "#function obtained from http://scikit-learn.org/stable/auto_examples/model_selection/plot_confusion_matrix.html\n",
    "\n",
    "def plot_confusion_matrix(cm,\n",
    "                          target_names,\n",
    "                          title='Confusion matrix for MobileNetV2',\n",
    "                          cmap=None,\n",
    "                          normalize=True):\n",
    "    \"\"\"\n",
    "    given a sklearn confusion matrix (cm), make a nice plot\n",
    "\n",
    "    Arguments\n",
    "    ---------\n",
    "    cm:           confusion matrix from sklearn.metrics.confusion_matrix\n",
    "\n",
    "    target_names: given classification classes such as [0, 1, 2]\n",
    "                  the class names, for example: ['high', 'medium', 'low']\n",
    "\n",
    "    title:        the text to display at the top of the matrix\n",
    "\n",
    "    cmap:         the gradient of the values displayed from matplotlib.pyplot.cm\n",
    "                  see http://matplotlib.org/examples/color/colormaps_reference.html\n",
    "                  plt.get_cmap('jet') or plt.cm.Blues\n",
    "\n",
    "    normalize:    If False, plot the raw numbers\n",
    "                  If True, plot the proportions\n",
    "\n",
    "    Usage\n",
    "    -----\n",
    "    plot_confusion_matrix(cm           = cm,                  # confusion matrix created by\n",
    "                                                              # sklearn.metrics.confusion_matrix\n",
    "                          normalize    = True,                # show proportions\n",
    "                          target_names = y_labels_vals,       # list of names of the classes\n",
    "                          title        = best_estimator_name) # title of graph\n",
    "\n",
    "    Citiation\n",
    "    ---------\n",
    "    http://scikit-learn.org/stable/auto_examples/model_selection/plot_confusion_matrix.html\n",
    "\n",
    "    \"\"\"\n",
    "    import matplotlib.pyplot as plt\n",
    "    import numpy as np\n",
    "    import itertools\n",
    "\n",
    "    accuracy = np.trace(cm) / np.sum(cm).astype('float')\n",
    "    misclass = 1 - accuracy\n",
    "\n",
    "    if cmap is None:\n",
    "        cmap = plt.get_cmap('Blues')\n",
    "\n",
    "    plt.figure(figsize=(6, 4))\n",
    "    plt.imshow(cm, interpolation='nearest', cmap=cmap)\n",
    "    plt.title(title)\n",
    "    plt.colorbar()\n",
    "\n",
    "    if target_names is not None:\n",
    "        tick_marks = np.arange(len(target_names))\n",
    "        plt.xticks(tick_marks, target_names)\n",
    "        plt.yticks(tick_marks, target_names)\n",
    "\n",
    "    if normalize:\n",
    "        cm = cm.astype('float') / cm.sum(axis=1)[:, np.newaxis]\n",
    "\n",
    "\n",
    "    thresh = cm.max() / 1.5 if normalize else cm.max() / 2\n",
    "    for i, j in itertools.product(range(cm.shape[0]), range(cm.shape[1])):\n",
    "        if normalize:\n",
    "            plt.text(j, i, \"{:0.4f}\".format(cm[i, j]),\n",
    "                     horizontalalignment=\"center\",\n",
    "                     color=\"white\" if cm[i, j] > thresh else \"black\")\n",
    "        else:\n",
    "            plt.text(j, i, \"{:,}\".format(cm[i, j]),\n",
    "                     horizontalalignment=\"center\",\n",
    "                     color=\"white\" if cm[i, j] > thresh else \"black\")\n",
    "\n",
    "\n",
    "    plt.tight_layout()\n",
    "    plt.ylabel('True label')\n",
    "    plt.xlabel('Predicted label\\nAccuracy={:0.2f}; Misclassification={:0.2f}'.format(accuracy, misclass))\n",
    "    plt.show()"
   ]
  },
  {
   "cell_type": "code",
   "execution_count": null,
   "metadata": {},
   "outputs": [],
   "source": [
    "#plot confusion matrix\n",
    "\n",
    "plot_confusion_matrix(cm, [0,1,2], normalize=False)"
   ]
  },
  {
   "cell_type": "code",
   "execution_count": null,
   "metadata": {},
   "outputs": [],
   "source": [
    "#function obtained from https://scikit-learn.org/stable/auto_examples/model_selection/plot_precision_recall.html\n",
    "\n",
    "from sklearn.metrics import precision_recall_curve\n",
    "from sklearn.metrics import average_precision_score\n",
    "\n",
    "precision = dict()\n",
    "recall = dict()\n",
    "average_precision = dict()\n",
    "\n",
    "for i in range(n_classes):\n",
    "    precision[i], recall[i], _ = precision_recall_curve(y_test2[:, i], preds[:, i])\n",
    "    \n",
    "    average_precision[i] = average_precision_score(y_test2[:, i], preds[:, i])\n",
    "\n",
    "precision[\"micro\"], recall[\"micro\"], _ = precision_recall_curve(y_test2.ravel(),preds.ravel())\n",
    "\n",
    "average_precision[\"micro\"] = average_precision_score(y_test2, preds, average=\"micro\")"
   ]
  },
  {
   "cell_type": "code",
   "execution_count": null,
   "metadata": {},
   "outputs": [],
   "source": [
    "#plot precision-recall graph \n",
    "\n",
    "plt.figure()\n",
    "\n",
    "plt.step(recall['micro'], precision['micro'], where='post', lw=2,\n",
    "         label='PR curve (AP = %0.2f)' % average_precision['micro'])\n",
    "\n",
    "plt.xlabel('Recall')\n",
    "plt.ylabel('Precision')\n",
    "plt.grid()\n",
    "plt.legend(loc='lower right')\n",
    "plt.ylim([0.0, 1.05])\n",
    "plt.xlim([0.0, 1.05])\n",
    "plt.title('Precision-Recall Curve for MobileNetV2')"
   ]
  },
  {
   "cell_type": "code",
   "execution_count": null,
   "metadata": {},
   "outputs": [],
   "source": [
    "#function obtained from https://scikit-learn.org/stable/auto_examples/model_selection/plot_roc.html#sphx-glr-auto-examples-model-selection-plot-roc-py\n",
    "\n",
    "from sklearn.metrics import roc_curve, auc\n",
    "from sklearn.metrics import roc_auc_score\n",
    "from numpy import interp\n",
    "from itertools import cycle\n",
    "\n",
    "fpr = dict()\n",
    "tpr = dict()\n",
    "roc_auc = dict()\n",
    "for i in range(n_classes):\n",
    "    fpr[i], tpr[i], _ = roc_curve(y_test2[:, i], preds[:, i])\n",
    "    roc_auc[i] = auc(fpr[i], tpr[i])\n",
    "\n",
    "fpr[\"micro\"], tpr[\"micro\"], _ = roc_curve(y_test2.ravel(), preds.ravel())\n",
    "roc_auc[\"micro\"] = auc(fpr[\"micro\"], tpr[\"micro\"])"
   ]
  },
  {
   "cell_type": "code",
   "execution_count": null,
   "metadata": {},
   "outputs": [],
   "source": [
    "#plot roc graph\n",
    "\n",
    "plt.figure()\n",
    "\n",
    "plt.plot(fpr['micro'], tpr['micro'], color='darkorange',\n",
    "         lw=2, label='ROC curve (AUC = %0.2f)' % roc_auc['micro'])\n",
    "plt.plot([0, 1], [0, 1], color='navy', lw=2, linestyle='--')\n",
    "plt.xlim([0.0, 1.05])\n",
    "plt.ylim([0.0, 1.05])\n",
    "plt.xlabel('False Positive Rate')\n",
    "plt.ylabel('True Positive Rate')\n",
    "plt.title('ROC curve for MobileNetV2')\n",
    "plt.legend(loc=\"lower right\")\n",
    "plt.grid()\n",
    "plt.show()"
   ]
  },
  {
   "cell_type": "code",
   "execution_count": null,
   "metadata": {},
   "outputs": [],
   "source": []
  }
 ],
 "metadata": {
  "kernelspec": {
   "display_name": "myenv",
   "language": "python",
   "name": "myenv"
  },
  "language_info": {
   "codemirror_mode": {
    "name": "ipython",
    "version": 3
   },
   "file_extension": ".py",
   "mimetype": "text/x-python",
   "name": "python",
   "nbconvert_exporter": "python",
   "pygments_lexer": "ipython3",
   "version": "3.8.5"
  }
 },
 "nbformat": 4,
 "nbformat_minor": 4
}
