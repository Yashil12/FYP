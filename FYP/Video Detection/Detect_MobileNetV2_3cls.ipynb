{
 "cells": [
  {
   "cell_type": "code",
   "execution_count": null,
   "metadata": {},
   "outputs": [],
   "source": [
    "import time\n",
    "import pickle\n",
    "import numpy as np\n",
    "import matplotlib.pyplot as plt\n",
    "import cv2\n",
    "import tensorflow as tf\n",
    "import keras\n",
    "from keras.applications.mobilenet_v2 import preprocess_input\n",
    "from tensorflow.keras.models import load_model"
   ]
  },
  {
   "cell_type": "code",
   "execution_count": null,
   "metadata": {},
   "outputs": [],
   "source": [
    "model = load_model('model_mnv2_3cls.h5')"
   ]
  },
  {
   "cell_type": "code",
   "execution_count": null,
   "metadata": {},
   "outputs": [],
   "source": [
    "colors = {0: (0, 255, 0), 1: (0, 255, 255), 2: (0, 0, 255)}\n",
    "labels = {0: 'Correctly Masked', 1:'Incorrectly Masked', 2: 'Not Masked'}\n",
    "\n",
    "img_size = (224, 224)"
   ]
  },
  {
   "cell_type": "code",
   "execution_count": null,
   "metadata": {},
   "outputs": [],
   "source": [
    "def classify(img):\n",
    "    img_array = keras.preprocessing.image.img_to_array(img)\n",
    "    img_array = preprocess_input(img_array)\n",
    "    img_array = tf.expand_dims(img_array, 0)\n",
    "    predictions = model.predict(img_array)\n",
    "    score = predictions[0]\n",
    "    class_index = np.argmax(score)\n",
    "    confidence = round(100*np.max(score), 1)\n",
    "    return class_index, confidence, score"
   ]
  },
  {
   "cell_type": "code",
   "execution_count": null,
   "metadata": {
    "scrolled": true
   },
   "outputs": [],
   "source": [
    "cap = cv2.VideoCapture(0)\n",
    "fps_array=[]\n",
    "cm_array=[]\n",
    "im_array=[]\n",
    "nm_array=[]\n",
    "run_start_time = time.time()\n",
    "\n",
    "while cap.isOpened():\n",
    "    ret, frame = cap.read()  \n",
    "    start_time = time.time()\n",
    "    frame_count = 0\n",
    "    if not ret:\n",
    "        break\n",
    "    \n",
    " \n",
    "    frame_count += 1     \n",
    "    frame = cv2.flip(frame, 1)       \n",
    "    rgb = cv2.cvtColor(frame, cv2.COLOR_BGR2RGB)\n",
    "    img = cv2.resize(rgb, img_size)\n",
    "    \n",
    "    try:\n",
    "        class_index, confidence, score = classify(img)\n",
    "\n",
    "        text = \"{} with {:.1f}% confidence\".format(labels[class_index], confidence)\n",
    "        cv2.rectangle(frame, (0,0), (640,480), \n",
    "                      colors[class_index], 10)\n",
    "        cv2.putText(frame, text, (80, 50), \n",
    "                    cv2.FONT_HERSHEY_SIMPLEX, \n",
    "                    0.8, colors[class_index], 1)\n",
    "        \n",
    "    except Exception as e:\n",
    "        print(e)\n",
    "        print(\"Error!\")\n",
    "\n",
    "    elapsed_time = time.time() - start_time\n",
    "    fps = round(frame_count/elapsed_time, 1)\n",
    "    \n",
    "    cv2.putText(img=frame, text='FPS : ' + str(fps), \n",
    "                org=(10, 20), fontFace=cv2.FONT_HERSHEY_SIMPLEX, \n",
    "                fontScale=0.5, color=(255,255,255), thickness=1)\n",
    "\n",
    "    cv2.imshow('Face Mask Detection - MobileNetV2', frame)\n",
    "    \n",
    "    fps_array.append(fps) \n",
    "    cm_array.append(score[0])\n",
    "    im_array.append(score[1])\n",
    "    nm_array.append(score[2])\n",
    "    \n",
    "    if cv2.waitKey(1) & 0xFF == 27: #press Esc to exit video \n",
    "        break\n",
    "run_end_time = time.time()\n",
    "\n",
    "cap.release()\n",
    "cv2.destroyAllWindows()\n",
    "\n",
    "total_runtime = run_end_time - run_start_time"
   ]
  },
  {
   "cell_type": "code",
   "execution_count": null,
   "metadata": {},
   "outputs": [],
   "source": [
    "runtime_range = (0, total_runtime+1)\n",
    "x=np.linspace(0, runtime_range, len(cm_array))"
   ]
  },
  {
   "cell_type": "code",
   "execution_count": null,
   "metadata": {},
   "outputs": [],
   "source": [
    "plt.figure()\n",
    "\n",
    "plt.plot(x, fps_array, color='darkorchid')\n",
    "\n",
    "plt.title(\"Frame Rate for MobileNetV2\")\n",
    "plt.xlabel(\"Time (s)\")\n",
    "plt.ylim(0, 16.5)\n",
    "plt.ylabel(\"Frame Rate (fps)\")\n",
    "plt.grid()\n",
    "plt.show()"
   ]
  },
  {
   "cell_type": "code",
   "execution_count": null,
   "metadata": {},
   "outputs": [],
   "source": [
    "plt.figure()\n",
    "\n",
    "plt.plot(x, np.multiply(cm_array, 100), color='green', label='Correctly Masked')\n",
    "plt.plot(x, np.multiply(im_array, 100), color='gold', label='Incorrectly Masked')\n",
    "plt.plot(x, np.multiply(nm_array, 100), color='red', label='Not Masked')\n",
    "\n",
    "\n",
    "handles, labels = plt.gca().get_legend_handles_labels()\n",
    "by_label = dict(zip(labels, handles))\n",
    "plt.legend(by_label.values(), by_label.keys(), bbox_to_anchor=(1.05, 0.5), loc='center left')\n",
    "plt.title(\"Prediction Confidence for MobileNetV2\")\n",
    "plt.xlabel(\"Time (s)\")\n",
    "plt.ylabel(\"Confidence (%)\")\n",
    "plt.grid()\n",
    "plt.show()"
   ]
  },
  {
   "cell_type": "code",
   "execution_count": null,
   "metadata": {},
   "outputs": [],
   "source": []
  }
 ],
 "metadata": {
  "kernelspec": {
   "display_name": "myenv",
   "language": "python",
   "name": "myenv"
  },
  "language_info": {
   "codemirror_mode": {
    "name": "ipython",
    "version": 3
   },
   "file_extension": ".py",
   "mimetype": "text/x-python",
   "name": "python",
   "nbconvert_exporter": "python",
   "pygments_lexer": "ipython3",
   "version": "3.8.5"
  }
 },
 "nbformat": 4,
 "nbformat_minor": 4
}
